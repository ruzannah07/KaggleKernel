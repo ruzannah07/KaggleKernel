{
 "cells": [
  {
   "cell_type": "markdown",
   "metadata": {
    "_uuid": "726661972b09b03a31d424ef02a9be0cd284d81b"
   },
   "source": [
    " # <div style=\"text-align: center\">Linear Algebra for Data Scientists \n",
    "<div style=\"text-align: center\">\n",
    "Having a basic knowledge of linear algebra is one of the requirements for any data scientist. In this tutorial we will try to cover all the necessary concepts related to linear algebra\n",
    "and also this is the third step of the <a href=\"https://www.kaggle.com/mjbahmani/10-steps-to-become-a-data-scientist\">10 Steps to Become a Data Scientist</a>. and you can learn all of the thing you need for being a data scientist with Linear Algabra.</div> \n",
    "\n",
    "<div style=\"text-align:center\">last update: <b>03/01/2019</b></div>\n",
    "\n",
    ">###### You may  be interested have a look at 10 Steps to Become a Data Scientist: \n",
    "\n",
    "1. [Leren Python](https://www.kaggle.com/mjbahmani/the-data-scientist-s-toolbox-tutorial-1)\n",
    "2. [Python Packages](https://www.kaggle.com/mjbahmani/the-data-scientist-s-toolbox-tutorial-2)\n",
    "3. <font color=\"red\">You are in 3th step</font>\n",
    "4. [Programming &amp; Analysis Tools](https://www.kaggle.com/mjbahmani/20-ml-algorithms-15-plot-for-beginners)\n",
    "5. [Big Data](https://www.kaggle.com/mjbahmani/a-data-science-framework-for-quora)\n",
    "6. [Data visualization](https://www.kaggle.com/mjbahmani/top-5-data-visualization-libraries-tutorial)\n",
    "7. [Data Cleaning](https://www.kaggle.com/mjbahmani/machine-learning-workflow-for-house-prices)\n",
    "8. [How to solve a Problem?](https://www.kaggle.com/mjbahmani/the-data-scientist-s-toolbox-tutorial-2)\n",
    "9. [Machine Learning](https://www.kaggle.com/mjbahmani/a-comprehensive-ml-workflow-with-python)\n",
    "10. [Deep Learning](https://www.kaggle.com/mjbahmani/top-5-deep-learning-frameworks-tutorial)\n",
    "\n",
    "\n",
    "\n",
    "\n",
    "\n",
    "You can Fork code  and  Follow me on:\n",
    "\n",
    "> ###### [ GitHub](https://github.com/mjbahmani/10-steps-to-become-a-data-scientist)\n",
    "> ###### [Kaggle](https://www.kaggle.com/mjbahmani/)\n",
    "-------------------------------------------------------------------------------------------------------------\n",
    " <b>I hope you find this kernel helpful and some <font color='blue'>UPVOTES</font> would be very much appreciated.</b>\n",
    "    \n",
    " -----------"
   ]
  },
  {
   "cell_type": "markdown",
   "metadata": {
    "_uuid": "2a01be35950f7a117fc6700e866de3bf5a3ea6b9"
   },
   "source": [
    " <a id=\"top\"></a> <br>\n",
    "## Notebook  Content\n",
    "1. [Introduction](#1)\n",
    "1. [What is Linear Algebra?](#2)\n",
    "1. [Notation ](#2)\n",
    "1. [Matrix Multiplication](#3)\n",
    "    1. [Vector-Vector Products](#31)\n",
    "    1. [Outer Product of Two Vectors](#32)\n",
    "    1. [Matrix-Vector Products](#33)\n",
    "    1. [Matrix-Matrix Products](#34)\n",
    "1. [Identity Matrix](#4)\n",
    "1. [Diagonal Matrix](#5)\n",
    "1. [Transpose of a Matrix](#6)\n",
    "1. [Symmetric Metrices](#7)\n",
    "1. [The Trace](#8)\n",
    "1. [Norms](#9)\n",
    "1. [Linear Independence and Rank](#10)\n",
    "1. [Subtraction and Addition of Metrices](#11)\n",
    "    1. [Inverse](#111)\n",
    "1. [Orthogonal Matrices](#12)\n",
    "1. [Range and Nullspace of a Matrix](#13)\n",
    "1. [Determinant](#14)\n",
    "1. [Tensors](#16)\n",
    "1. [Hyperplane](#17)\n",
    "1. [Eigenvalues and Eigenvectors](#18)\n",
    "1. [Exercise](#19)\n",
    "1. [Conclusion](#21)\n",
    "1. [References](#22)"
   ]
  },
  {
   "cell_type": "markdown",
   "metadata": {
    "_uuid": "b18443661b6d30ffea2150fa74d44d62e14ae952"
   },
   "source": [
    "<a id=\"1\"></a> <br>\n",
    "#  1-Introduction\n",
    "This is the third step of the [10 Steps to Become a Data Scientist](https://www.kaggle.com/mjbahmani/10-steps-to-become-a-data-scientist).\n",
    "we will cover following topic:\n",
    "1. notation\n",
    "1. Matrix Multiplication\n",
    "1. Identity Matrix\n",
    "1. Diagonal Matrix\n",
    "1. Transpose of a Matrix\n",
    "1. The Trace\n",
    "1. Norms\n",
    "1. Tensors\n",
    "1. Hyperplane\n",
    "1. Eigenvalues and Eigenvectors\n",
    "## What is linear algebra?\n",
    "**Linear algebra** is the branch of mathematics that deals with **vector spaces**. good understanding of Linear Algebra is intrinsic to analyze Machine Learning algorithms, especially for **Deep Learning** where so much happens behind the curtain.you have my word that I will try to keep mathematical formulas & derivations out of this completely mathematical topic and I try to cover all of subject that you need as data scientist.[https://medium.com/@neuralnets](https://medium.com/@neuralnets/linear-algebra-for-data-science-revisiting-high-school-9a6bbeba19c6)\n",
    "<img src='https://camo.githubusercontent.com/e42ea0e40062cc1e339a6b90054bfbe62be64402/68747470733a2f2f63646e2e646973636f72646170702e636f6d2f6174746163686d656e74732f3339313937313830393536333530383733382f3434323635393336333534333331383532382f7363616c61722d766563746f722d6d61747269782d74656e736f722e706e67' height=200 width=700>\n",
    "[image credit: https://hadrienj.github.io/posts/Deep-Learning-Book-Series-2.1-Scalars-Vectors-Matrices-and-Tensors/ ](https://hadrienj.github.io/posts/Deep-Learning-Book-Series-2.1-Scalars-Vectors-Matrices-and-Tensors/)\n",
    " <a id=\"top\"></a> <br>"
   ]
  },
  {
   "cell_type": "markdown",
   "metadata": {
    "_uuid": "9008e99d1ebea16694d75bfa1ba5addef515198e"
   },
   "source": [
    "<a id=\"11\"></a> <br>\n",
    "## 1-1 Import"
   ]
  },
  {
   "cell_type": "code",
   "execution_count": 1,
   "metadata": {
    "_kg_hide-input": true,
    "_uuid": "223d7c576e665b2bbb83894e4f24346738e95877"
   },
   "outputs": [],
   "source": [
    "import matplotlib.patches as patch\n",
    "import matplotlib.pyplot as plt\n",
    "from scipy.stats import norm\n",
    "from scipy import linalg\n",
    "from numpy import poly1d\n",
    "from sklearn import svm\n",
    "import tensorflow as tf\n",
    "import pandas as pd\n",
    "import numpy as np\n",
    "import glob\n",
    "import sys\n",
    "import os"
   ]
  },
  {
   "cell_type": "markdown",
   "metadata": {
    "_uuid": "286ce03c993f8784863f6ad59298c869f8a544b0"
   },
   "source": [
    "<a id=\"12\"></a> <br>\n",
    "##  1-2 Setup"
   ]
  },
  {
   "cell_type": "code",
   "execution_count": 2,
   "metadata": {
    "_kg_hide-input": true,
    "_uuid": "480928dbf26d5ef6ac7a1ddfe59b51a5eb95338a"
   },
   "outputs": [],
   "source": [
    "%matplotlib inline\n",
    "%precision 4\n",
    "plt.style.use('ggplot')\n",
    "np.set_printoptions(suppress=True)"
   ]
  },
  {
   "cell_type": "markdown",
   "metadata": {
    "_uuid": "e6824a84cbdfb6dc17200c495101e113967bf514"
   },
   "source": [
    "<a id=\"2\"></a> <br>\n",
    "# 2- What is Linear Algebra?\n",
    "Linear algebra is the branch of mathematics concerning linear equations such as\n",
    "<img src='https://wikimedia.org/api/rest_v1/media/math/render/svg/f4f0f2986d54c01f3bccf464d266dfac923c80f3'>\n",
    "Linear algebra is central to almost all areas of mathematics. [6]\n",
    "<img src='https://upload.wikimedia.org/wikipedia/commons/thumb/2/2f/Linear_subspaces_with_shading.svg/800px-Linear_subspaces_with_shading.svg.png' height=400 width=400>\n",
    "[wikipedia](https://en.wikipedia.org/wiki/Linear_algebra#/media/File:Linear_subspaces_with_shading.svg)\n"
   ]
  },
  {
   "cell_type": "code",
   "execution_count": 3,
   "metadata": {
    "_kg_hide-input": true,
    "_uuid": "9d1e3eceee8943fb0b6086abfc68ae6634a6cac3"
   },
   "outputs": [
    {
     "name": "stdout",
     "output_type": "stream",
     "text": [
      "[[[0. 0. 0. 0.]\n",
      "  [0. 0. 0. 0.]\n",
      "  [0. 0. 0. 0.]]\n",
      "\n",
      " [[0. 0. 0. 0.]\n",
      "  [0. 0. 0. 0.]\n",
      "  [0. 0. 0. 0.]]]\n",
      "(2, 3, 4)\n"
     ]
    }
   ],
   "source": [
    "# let see how to create a multi dimentional Array with Numpy\n",
    "a = np.zeros((2, 3, 4))\n",
    "#l = [[[ 0.,  0.,  0.,  0.],\n",
    "    #      [ 0.,  0.,  0.,  0.],\n",
    "     #     [ 0.,  0.,  0.,  0.]],\n",
    "     #     [[ 0.,  0.,  0.,  0.],\n",
    "    #      [ 0.,  0.,  0.,  0.],\n",
    "     #     [ 0.,  0.,  0.,  0.]]]\n",
    "print(a)\n",
    "print(a.shape)"
   ]
  },
  {
   "cell_type": "code",
   "execution_count": 4,
   "metadata": {
    "_kg_hide-input": true,
    "_uuid": "3f3396b3c3597ea3a45209181fe86730750ea0b7"
   },
   "outputs": [
    {
     "name": "stdout",
     "output_type": "stream",
     "text": [
      "<class 'list'>\n",
      "[1, 2, 3, 4, 5, 6]\n",
      "[5 7 9]\n",
      "<class 'numpy.ndarray'>\n",
      "[-3  6 -3]\n"
     ]
    }
   ],
   "source": [
    "\n",
    "# Declaring Vectors\n",
    "\n",
    "x = [1, 2, 3]\n",
    "y = [4, 5, 6]\n",
    "\n",
    "print(type(x))\n",
    "\n",
    "# This does'nt give the vector addition.\n",
    "print(x + y)\n",
    "\n",
    "# Vector addition using Numpy\n",
    "\n",
    "z = np.add(x, y)\n",
    "print(z)\n",
    "print(type(z))\n",
    "\n",
    "# Vector Cross Product\n",
    "mul = np.cross(x, y)\n",
    "print(mul)"
   ]
  },
  {
   "cell_type": "markdown",
   "metadata": {
    "_uuid": "49c0b3e90c95512ef3733b25fd87cdef8ce31f97"
   },
   "source": [
    "## 2-1 What is Vectorization?\n",
    "In mathematics, especially in linear algebra and matrix theory, the vectorization of a matrix is a linear transformation which converts the matrix into a column vector. Specifically, the vectorization of an m × n matrix A, denoted vec(A), is the mn × 1 column vector obtained by stacking the columns of the matrix A on top of one another:\n",
    "<img src='https://wikimedia.org/api/rest_v1/media/math/render/svg/30ca6a8b796fd3a260ba3001d9875e990baad5ab'>\n",
    "[wikipedia](https://en.wikipedia.org/wiki/Vectorization_(mathematics) )"
   ]
  },
  {
   "cell_type": "markdown",
   "metadata": {
    "_uuid": "dbea06c756c0c9e398def8799d080e23b3e5f899"
   },
   "source": [
    "Vectors of the length $n$ could be treated like points in $n$-dimensional space. One can calculate the distance between such points using measures like [Euclidean Distance](https://en.wikipedia.org/wiki/Euclidean_distance). The similarity of vectors could also be calculated using [Cosine Similarity](https://en.wikipedia.org/wiki/Cosine_similarity).\n",
    "###### [Go to top](#top)"
   ]
  },
  {
   "cell_type": "markdown",
   "metadata": {
    "_uuid": "edaec8965119aa83192198d2d440c37546335719"
   },
   "source": [
    "<a id=\"3\"></a> <br>\n",
    "## 3- Notation\n",
    "<img src='http://s8.picofile.com/file/8349058626/la.png'>\n",
    "[linear.ups.edu](http://linear.ups.edu/html/notation.html)"
   ]
  },
  {
   "cell_type": "markdown",
   "metadata": {
    "_uuid": "41bc780d93b81da8aa1ff806c54a4791dbb2c8dc"
   },
   "source": [
    "<a id=\"4\"></a> <br>\n",
    "## 4- Matrix Multiplication\n",
    "<img src='https://www.mathsisfun.com/algebra/images/matrix-multiply-constant.gif'>\n",
    "\n",
    "[mathsisfun](https://www.mathsisfun.com/algebra/matrix-multiplying.html)"
   ]
  },
  {
   "cell_type": "markdown",
   "metadata": {
    "_uuid": "0573f52724da68f860328d1cc3259c215d817f80"
   },
   "source": [
    "The result of the multiplication of two matrixes $A \\in \\mathbb{R}^{m \\times n}$ and $B \\in \\mathbb{R}^{n \\times p}$ is the matrix:"
   ]
  },
  {
   "cell_type": "code",
   "execution_count": 5,
   "metadata": {
    "_kg_hide-input": true,
    "_uuid": "788f078e069a2ace3ca7d0aead749ead8b248c6d"
   },
   "outputs": [],
   "source": [
    "# initializing matrices \n",
    "x = np.array([[1, 2], [4, 5]]) \n",
    "y = np.array([[7, 8], [9, 10]])"
   ]
  },
  {
   "cell_type": "markdown",
   "metadata": {
    "_uuid": "bd6307c19afbda119a0dacca7e096b965889a30b"
   },
   "source": [
    "$C = AB \\in \\mathbb{R}^{m \\times n}$"
   ]
  },
  {
   "cell_type": "markdown",
   "metadata": {
    "_uuid": "0e0a76e86724698f241fcc74fc37e54d881622bd"
   },
   "source": [
    "That is, we are multiplying the columns of $A$ with the rows of $B$:"
   ]
  },
  {
   "cell_type": "markdown",
   "metadata": {
    "_uuid": "adb65bab1beb10117cbb490383cb62a9578ce62f"
   },
   "source": [
    "$C_{ij}=\\sum_{k=1}^n{A_{ij}B_{kj}}$\n",
    "<img src='https://cdn.britannica.com/06/77706-004-31EE92F3.jpg'>\n",
    "[reference](https://cdn.britannica.com/06/77706-004-31EE92F3.jpg)"
   ]
  },
  {
   "cell_type": "markdown",
   "metadata": {
    "_uuid": "17f45fb4f428ad87706493da0431bdce6c00b531"
   },
   "source": [
    "The number of columns in $A$ must be equal to the number of rows in $B$.\n",
    "\n",
    "###### [Go to top](#top)"
   ]
  },
  {
   "cell_type": "code",
   "execution_count": 6,
   "metadata": {
    "_kg_hide-input": true,
    "_uuid": "3cf4286adffc483893952a31d5a7006c462b3f60"
   },
   "outputs": [
    {
     "name": "stdout",
     "output_type": "stream",
     "text": [
      "The element wise addition of matrix is : \n",
      "[[ 8 10]\n",
      " [13 15]]\n"
     ]
    }
   ],
   "source": [
    "# using add() to add matrices \n",
    "print (\"The element wise addition of matrix is : \") \n",
    "print (np.add(x,y)) "
   ]
  },
  {
   "cell_type": "code",
   "execution_count": 7,
   "metadata": {
    "_kg_hide-input": true,
    "_uuid": "911a916a2c725232349a832769dd794956cb88cb"
   },
   "outputs": [
    {
     "name": "stdout",
     "output_type": "stream",
     "text": [
      "The element wise subtraction of matrix is : \n",
      "[[-6 -6]\n",
      " [-5 -5]]\n"
     ]
    }
   ],
   "source": [
    "# using subtract() to subtract matrices \n",
    "print (\"The element wise subtraction of matrix is : \") \n",
    "print (np.subtract(x,y)) "
   ]
  },
  {
   "cell_type": "code",
   "execution_count": 8,
   "metadata": {
    "_kg_hide-input": true,
    "_uuid": "045eba6b777e062510cfa4bf055c680830a66036"
   },
   "outputs": [
    {
     "name": "stdout",
     "output_type": "stream",
     "text": [
      "The element wise division of matrix is : \n",
      "[[0.1429 0.25  ]\n",
      " [0.4444 0.5   ]]\n"
     ]
    }
   ],
   "source": [
    "# using divide() to divide matrices \n",
    "print (\"The element wise division of matrix is : \") \n",
    "print (np.divide(x,y)) "
   ]
  },
  {
   "cell_type": "code",
   "execution_count": 9,
   "metadata": {
    "_kg_hide-input": true,
    "_uuid": "aa8078d3057e8169d29ea9730d483ce9aebd5f2f"
   },
   "outputs": [
    {
     "name": "stdout",
     "output_type": "stream",
     "text": [
      "The element wise multiplication of matrix is : \n",
      "[[ 7 16]\n",
      " [36 50]]\n"
     ]
    }
   ],
   "source": [
    "# using multiply() to multiply matrices element wise \n",
    "print (\"The element wise multiplication of matrix is : \") \n",
    "print (np.multiply(x,y))"
   ]
  },
  {
   "cell_type": "markdown",
   "metadata": {
    "_uuid": "aa352f5ba3a8ee911eb8f1c03749267eb4c4f76e"
   },
   "source": [
    "<a id=\"41\"></a> <br>\n",
    "## 4-1 Vector-Vector Products\n",
    "\n",
    "numpy.cross(a, b, axisa=-1, axisb=-1, axisc=-1, axis=None)[source]\n",
    "Return the cross product of two (arrays of) vectors.[scipy](https://docs.scipy.org/doc/numpy-1.15.0/reference/generated/numpy.cross.html)\n",
    "<img src='http://gamedevelopertips.com/wp-content/uploads/2017/11/image8.png'>\n",
    "[image-gredits](http://gamedevelopertips.com)"
   ]
  },
  {
   "cell_type": "code",
   "execution_count": 10,
   "metadata": {
    "_kg_hide-input": true,
    "_uuid": "371da89fa6d1b698c59ee82d6aa7b475fd7a5625"
   },
   "outputs": [
    {
     "data": {
      "text/plain": [
       "array([-3,  6, -3])"
      ]
     },
     "execution_count": 10,
     "metadata": {},
     "output_type": "execute_result"
    }
   ],
   "source": [
    "x = [1, 2, 3]\n",
    "y = [4, 5, 6]\n",
    "np.cross(x, y)"
   ]
  },
  {
   "cell_type": "markdown",
   "metadata": {
    "_uuid": "4d8ffa140774c6a7e2f0cd35c4809bd80069ce8b"
   },
   "source": [
    "We define the vectors $x$ and $y$ using *numpy*:"
   ]
  },
  {
   "cell_type": "code",
   "execution_count": 11,
   "metadata": {
    "_kg_hide-input": true,
    "_uuid": "e6c39782297031e83d0e695fa80f9ebc2a817f4f"
   },
   "outputs": [
    {
     "name": "stdout",
     "output_type": "stream",
     "text": [
      "x: [1 2 3 4]\n",
      "y: [5 6 7 8]\n"
     ]
    }
   ],
   "source": [
    "x = np.array([1, 2, 3, 4])\n",
    "y = np.array([5, 6, 7, 8])\n",
    "print(\"x:\", x)\n",
    "print(\"y:\", y)"
   ]
  },
  {
   "cell_type": "markdown",
   "metadata": {
    "_uuid": "ba7b567d2a4696cf0739e12cf4415ea3b8110e1e"
   },
   "source": [
    "We can now calculate the $dot$ or $inner product$ using the *dot* function of *numpy*:"
   ]
  },
  {
   "cell_type": "code",
   "execution_count": 12,
   "metadata": {
    "_kg_hide-input": true,
    "_uuid": "c9fd9b61bdfa83059272f1ad61067138d0763308"
   },
   "outputs": [
    {
     "data": {
      "text/plain": [
       "70"
      ]
     },
     "execution_count": 12,
     "metadata": {},
     "output_type": "execute_result"
    }
   ],
   "source": [
    "np.dot(x, y)"
   ]
  },
  {
   "cell_type": "markdown",
   "metadata": {
    "_uuid": "fec79e95e9d5b4059f91fd69334569a6831b835b"
   },
   "source": [
    "The order of the arguments is irrelevant:"
   ]
  },
  {
   "cell_type": "code",
   "execution_count": 13,
   "metadata": {
    "_kg_hide-input": true,
    "_uuid": "d3843ed486083fd994883be64136127728d09d7e"
   },
   "outputs": [
    {
     "data": {
      "text/plain": [
       "70"
      ]
     },
     "execution_count": 13,
     "metadata": {},
     "output_type": "execute_result"
    }
   ],
   "source": [
    "np.dot(y, x)"
   ]
  },
  {
   "cell_type": "markdown",
   "metadata": {
    "_uuid": "4025fa080136e50fcc4749100946148fa508ce32"
   },
   "source": [
    "Note that both vectors are actually **row vectors** in the above code. We can transpose them to column vectors by using the *shape* property:"
   ]
  },
  {
   "cell_type": "code",
   "execution_count": 14,
   "metadata": {
    "_kg_hide-input": true,
    "_uuid": "f3a97f695aad46b1d848469240308024d1dcb634"
   },
   "outputs": [
    {
     "name": "stdout",
     "output_type": "stream",
     "text": [
      "x: [1 2 3 4]\n",
      "xT: [[1]\n",
      " [2]\n",
      " [3]\n",
      " [4]]\n",
      "y: [5 6 7 8]\n",
      "yT: [[5]\n",
      " [6]\n",
      " [7]\n",
      " [8]]\n"
     ]
    }
   ],
   "source": [
    "print(\"x:\", x)\n",
    "x.shape = (4, 1)\n",
    "print(\"xT:\", x)\n",
    "print(\"y:\", y)\n",
    "y.shape = (4, 1)\n",
    "print(\"yT:\", y)"
   ]
  },
  {
   "cell_type": "markdown",
   "metadata": {
    "_uuid": "6a850ef7d0e2025dd57cbf89c4bbe4146ed83ba4"
   },
   "source": [
    "In fact, in our understanding of Linear Algebra, we take the arrays above to represent **row vectors**. *Numpy* treates them differently."
   ]
  },
  {
   "cell_type": "markdown",
   "metadata": {
    "_uuid": "b64cdd134c53e7865a76d4efecc2ace176c664cd"
   },
   "source": [
    "We see the issues when we try to transform the array objects. Usually, we can transform a row vector into a column vector in *numpy* by using the *T* method on vector or matrix objects:\n",
    "###### [Go to top](#top)"
   ]
  },
  {
   "cell_type": "code",
   "execution_count": 15,
   "metadata": {
    "_kg_hide-input": true,
    "_uuid": "bb73c80a401c89d79dbd920e5d63cf1a07b384e7"
   },
   "outputs": [
    {
     "name": "stdout",
     "output_type": "stream",
     "text": [
      "x: [1 2 3 4]\n",
      "y: [5 6 7 8]\n",
      "xT: [1 2 3 4]\n",
      "yT: [5 6 7 8]\n"
     ]
    }
   ],
   "source": [
    "x = np.array([1, 2, 3, 4])\n",
    "y = np.array([5, 6, 7, 8])\n",
    "print(\"x:\", x)\n",
    "print(\"y:\", y)\n",
    "print(\"xT:\", x.T)\n",
    "print(\"yT:\", y.T)"
   ]
  },
  {
   "cell_type": "markdown",
   "metadata": {
    "_uuid": "e80fc9e4bec6d2cc26a8194e19736e1f24484d5f"
   },
   "source": [
    "The problem here is that this does not do, what we expect it to do. It only works, if we declare the variables not to be arrays of numbers, but in fact a matrix:"
   ]
  },
  {
   "cell_type": "code",
   "execution_count": 16,
   "metadata": {
    "_kg_hide-input": true,
    "_uuid": "cb78424e23837608cbd597fb6fc7c3cbd99f368a"
   },
   "outputs": [
    {
     "name": "stdout",
     "output_type": "stream",
     "text": [
      "x: [[1 2 3 4]]\n",
      "y: [[5 6 7 8]]\n",
      "xT: [[1]\n",
      " [2]\n",
      " [3]\n",
      " [4]]\n",
      "yT: [[5]\n",
      " [6]\n",
      " [7]\n",
      " [8]]\n"
     ]
    }
   ],
   "source": [
    "x = np.array([[1, 2, 3, 4]])\n",
    "y = np.array([[5, 6, 7, 8]])\n",
    "print(\"x:\", x)\n",
    "print(\"y:\", y)\n",
    "print(\"xT:\", x.T)\n",
    "print(\"yT:\", y.T)\n"
   ]
  },
  {
   "cell_type": "markdown",
   "metadata": {
    "_uuid": "9bed60bdfd536f42ad4a88a358e611fef07bc14a"
   },
   "source": [
    "Note that the *numpy* functions *dot* and *outer* are not affected by this distinction. We can compute the dot product using the mathematical equation above in *numpy* using the new $x$ and $y$ row vectors:\n",
    "###### [Go to top](#top)"
   ]
  },
  {
   "cell_type": "code",
   "execution_count": 17,
   "metadata": {
    "_kg_hide-input": true,
    "_uuid": "df9c92e49f2dad24800996d0655caccec351c580"
   },
   "outputs": [
    {
     "name": "stdout",
     "output_type": "stream",
     "text": [
      "x: [[1 2 3 4]]\n",
      "y: [[5]\n",
      " [6]\n",
      " [7]\n",
      " [8]]\n"
     ]
    },
    {
     "data": {
      "text/plain": [
       "array([[70]])"
      ]
     },
     "execution_count": 17,
     "metadata": {},
     "output_type": "execute_result"
    }
   ],
   "source": [
    "print(\"x:\", x)\n",
    "print(\"y:\", y.T)\n",
    "np.dot(x, y.T)"
   ]
  },
  {
   "cell_type": "markdown",
   "metadata": {
    "_uuid": "c1705fc2b1b16b9228274a2f53cd0fa59a39d8fd"
   },
   "source": [
    "Or by reverting to:"
   ]
  },
  {
   "cell_type": "code",
   "execution_count": 18,
   "metadata": {
    "_kg_hide-input": true,
    "_uuid": "3a86b041668670f66b643053dfecfc46bdcd2749"
   },
   "outputs": [
    {
     "name": "stdout",
     "output_type": "stream",
     "text": [
      "x: [[1]\n",
      " [2]\n",
      " [3]\n",
      " [4]]\n",
      "y: [[5 6 7 8]]\n"
     ]
    },
    {
     "data": {
      "text/plain": [
       "array([[70]])"
      ]
     },
     "execution_count": 18,
     "metadata": {},
     "output_type": "execute_result"
    }
   ],
   "source": [
    "print(\"x:\", x.T)\n",
    "print(\"y:\", y)\n",
    "np.dot(y, x.T)"
   ]
  },
  {
   "cell_type": "markdown",
   "metadata": {
    "_uuid": "13ebfb31e281db7417cc3e2beb312e63f9688e28"
   },
   "source": [
    "To read the result from this array of arrays, we would need to access the value this way:"
   ]
  },
  {
   "cell_type": "code",
   "execution_count": 19,
   "metadata": {
    "_kg_hide-input": true,
    "_uuid": "295be78d3c1258ec4f24579985c5f14f8746e8a9"
   },
   "outputs": [
    {
     "data": {
      "text/plain": [
       "70"
      ]
     },
     "execution_count": 19,
     "metadata": {},
     "output_type": "execute_result"
    }
   ],
   "source": [
    "np.dot(y, x.T)[0][0]"
   ]
  },
  {
   "cell_type": "markdown",
   "metadata": {
    "_uuid": "b5bda4ac75a8d11935ef765b2c869e56d9df8a56"
   },
   "source": [
    "<a id=\"42\"></a> <br>\n",
    "## 4-2 Outer Product of Two Vectors\n",
    "Compute the outer product of two vectors."
   ]
  },
  {
   "cell_type": "code",
   "execution_count": 20,
   "metadata": {
    "_kg_hide-input": true,
    "_uuid": "31c5791cb210071f5253d0a20a7f1e2c030a48ea"
   },
   "outputs": [
    {
     "name": "stdout",
     "output_type": "stream",
     "text": [
      "x: [[1 2 3 4]]\n",
      "xT: [[1]\n",
      " [2]\n",
      " [3]\n",
      " [4]]\n",
      "xT: [[1]\n",
      " [2]\n",
      " [3]\n",
      " [4]]\n",
      "xT: [[1]\n",
      " [2]\n",
      " [3]\n",
      " [4]]\n"
     ]
    }
   ],
   "source": [
    "x = np.array([[1, 2, 3, 4]])\n",
    "print(\"x:\", x)\n",
    "print(\"xT:\", np.reshape(x, (4, 1)))\n",
    "print(\"xT:\", x.T)\n",
    "print(\"xT:\", x.transpose())"
   ]
  },
  {
   "cell_type": "markdown",
   "metadata": {
    "_uuid": "79454aca18aaa191658d04a48662f75588dd6e4e"
   },
   "source": [
    "Example\n",
    "###### [Go to top](#top)"
   ]
  },
  {
   "cell_type": "markdown",
   "metadata": {
    "_uuid": "0f8844018b2de3e4cd9584350a223b1e1347efe9"
   },
   "source": [
    "We can now compute the **outer product** by multiplying the column vector $x$ with the row vector $y$:"
   ]
  },
  {
   "cell_type": "code",
   "execution_count": 21,
   "metadata": {
    "_kg_hide-input": true,
    "_uuid": "4744a491b80ce1e01ddc4590847c9660ea9ae14b"
   },
   "outputs": [
    {
     "data": {
      "text/plain": [
       "array([[ 5,  6,  7,  8],\n",
       "       [10, 12, 14, 16],\n",
       "       [15, 18, 21, 24],\n",
       "       [20, 24, 28, 32]])"
      ]
     },
     "execution_count": 21,
     "metadata": {},
     "output_type": "execute_result"
    }
   ],
   "source": [
    "x = np.array([[1, 2, 3, 4]])\n",
    "y = np.array([[5, 6, 7, 8]])\n",
    "x.T * y"
   ]
  },
  {
   "cell_type": "markdown",
   "metadata": {
    "_uuid": "7ee36e496adf686e1445faca7e5c9c1dee9abf35"
   },
   "source": [
    "*Numpy* provides an *outer* function that does all that:"
   ]
  },
  {
   "cell_type": "code",
   "execution_count": 22,
   "metadata": {
    "_uuid": "47ce570eb9aa9a1173a2f30de728aba2aec3976c"
   },
   "outputs": [
    {
     "data": {
      "text/plain": [
       "array([[ 5,  6,  7,  8],\n",
       "       [10, 12, 14, 16],\n",
       "       [15, 18, 21, 24],\n",
       "       [20, 24, 28, 32]])"
      ]
     },
     "execution_count": 22,
     "metadata": {},
     "output_type": "execute_result"
    }
   ],
   "source": [
    "np.outer(x, y)"
   ]
  },
  {
   "cell_type": "markdown",
   "metadata": {
    "_uuid": "b3eed151fe4f34604d1691e36a41d82b36d3fead"
   },
   "source": [
    "Note, in this simple case using the simple arrays for the data structures of the vectors does not affect the result of the *outer* function:"
   ]
  },
  {
   "cell_type": "code",
   "execution_count": 23,
   "metadata": {
    "_kg_hide-input": true,
    "_uuid": "e52b29787ddf67293d7dbe6f0887cfc23fc4f11f"
   },
   "outputs": [
    {
     "data": {
      "text/plain": [
       "array([[ 5,  6,  7,  8],\n",
       "       [10, 12, 14, 16],\n",
       "       [15, 18, 21, 24],\n",
       "       [20, 24, 28, 32]])"
      ]
     },
     "execution_count": 23,
     "metadata": {},
     "output_type": "execute_result"
    }
   ],
   "source": [
    "x = np.array([1, 2, 3, 4])\n",
    "y = np.array([5, 6, 7, 8])\n",
    "np.outer(x, y)"
   ]
  },
  {
   "cell_type": "markdown",
   "metadata": {
    "_uuid": "0497e5d541a3c1ba344863a6730ea7521e65d50c"
   },
   "source": [
    "<a id=\"43\"></a> <br>\n",
    "## 4-3 Matrix-Vector Products\n",
    "Use numpy.dot or a.dot(b). See the documentation [here](http://docs.scipy.org/doc/numpy/reference/generated/numpy.dot.html)."
   ]
  },
  {
   "cell_type": "code",
   "execution_count": 24,
   "metadata": {
    "_kg_hide-input": true,
    "_uuid": "dab712cc9bfed1169b78e17b899fb51ab054323a"
   },
   "outputs": [
    {
     "name": "stdout",
     "output_type": "stream",
     "text": [
      "[16  6  8]\n"
     ]
    }
   ],
   "source": [
    "a = np.array([[ 5, 1 ,3], [ 1, 1 ,1], [ 1, 2 ,1]])\n",
    "b = np.array([1, 2, 3])\n",
    "print (a.dot(b))"
   ]
  },
  {
   "cell_type": "markdown",
   "metadata": {
    "_uuid": "2be29c242244536effade27bc0f8bbd03eddd537"
   },
   "source": [
    "Using *numpy* we can compute $Ax$:"
   ]
  },
  {
   "cell_type": "code",
   "execution_count": 25,
   "metadata": {
    "_kg_hide-input": true,
    "_uuid": "00f0a534b7dae7a24ee27a74553e1f785f3714ef"
   },
   "outputs": [
    {
     "data": {
      "text/plain": [
       "array([32, 50])"
      ]
     },
     "execution_count": 25,
     "metadata": {},
     "output_type": "execute_result"
    }
   ],
   "source": [
    "A = np.array([[4, 5, 6],\n",
    "             [7, 8, 9]])\n",
    "x = np.array([1, 2, 3])\n",
    "A.dot(x)"
   ]
  },
  {
   "cell_type": "markdown",
   "metadata": {
    "_uuid": "baee0e90e0271a893fa7344c7fbecb17849e24cb"
   },
   "source": [
    "<a id=\"44\"></a> <br>\n",
    "## 4-4 Matrix-Matrix Products"
   ]
  },
  {
   "cell_type": "code",
   "execution_count": 26,
   "metadata": {
    "_uuid": "e195d447d2cef723907f73cd692b9dc3ce17e271"
   },
   "outputs": [
    {
     "data": {
      "text/plain": [
       "array([[4, 1],\n",
       "       [2, 2]])"
      ]
     },
     "execution_count": 26,
     "metadata": {},
     "output_type": "execute_result"
    }
   ],
   "source": [
    "a = [[1, 0], [0, 1]]\n",
    "b = [[4, 1], [2, 2]]\n",
    "np.matmul(a, b)"
   ]
  },
  {
   "cell_type": "code",
   "execution_count": 27,
   "metadata": {
    "_kg_hide-input": true,
    "_uuid": "da4f41de85c7b81e7b12eb2aa5d96f36b9239795"
   },
   "outputs": [],
   "source": [
    "matrix1 = np.matrix(a)\n",
    "matrix2 = np.matrix(b)"
   ]
  },
  {
   "cell_type": "code",
   "execution_count": 28,
   "metadata": {
    "_kg_hide-input": true,
    "_uuid": "8fff3d143c70a997cb601ce8440f3e98ba4be645"
   },
   "outputs": [
    {
     "data": {
      "text/plain": [
       "matrix([[5, 1],\n",
       "        [2, 3]])"
      ]
     },
     "execution_count": 28,
     "metadata": {},
     "output_type": "execute_result"
    }
   ],
   "source": [
    "matrix1 + matrix2"
   ]
  },
  {
   "cell_type": "code",
   "execution_count": 29,
   "metadata": {
    "_uuid": "80a8ae1787a4ca1aedc4ec0bfc9ec7ca36935209"
   },
   "outputs": [
    {
     "data": {
      "text/plain": [
       "matrix([[-3, -1],\n",
       "        [-2, -1]])"
      ]
     },
     "execution_count": 29,
     "metadata": {},
     "output_type": "execute_result"
    }
   ],
   "source": [
    "matrix1 - matrix2"
   ]
  },
  {
   "cell_type": "markdown",
   "metadata": {
    "_uuid": "ee80826d7e34cb283c5ff4ef165d05f7715fe14f"
   },
   "source": [
    "<a id=\"441\"></a> <br>\n",
    "### 4-4-1  Multiplication"
   ]
  },
  {
   "cell_type": "code",
   "execution_count": 30,
   "metadata": {
    "_uuid": "413b954a7fce564c58d2bab2c0e48c8a268ca706"
   },
   "outputs": [
    {
     "data": {
      "text/plain": [
       "matrix([[4, 1],\n",
       "        [2, 2]])"
      ]
     },
     "execution_count": 30,
     "metadata": {},
     "output_type": "execute_result"
    }
   ],
   "source": [
    "np.dot(matrix1, matrix2)"
   ]
  },
  {
   "cell_type": "code",
   "execution_count": 31,
   "metadata": {
    "_uuid": "71a943f0cf2b0a27001ed6e53a766f2626946587"
   },
   "outputs": [
    {
     "data": {
      "text/plain": [
       "matrix([[4, 1],\n",
       "        [2, 2]])"
      ]
     },
     "execution_count": 31,
     "metadata": {},
     "output_type": "execute_result"
    }
   ],
   "source": [
    "\n",
    "matrix1 * matrix2"
   ]
  },
  {
   "cell_type": "markdown",
   "metadata": {
    "_uuid": "42bf81d28ea53bf258944612b436bf9a3a6b1292"
   },
   "source": [
    "<a id=\"5\"></a> <br>\n",
    "## 5- Identity Matrix"
   ]
  },
  {
   "cell_type": "markdown",
   "metadata": {
    "_uuid": "2cb80bc7e181a316499f1c420d6504714a887c98"
   },
   "source": [
    "numpy.identity(n, dtype=None)\n",
    "\n",
    "Return the identity array.\n",
    "[source](https://docs.scipy.org/doc/numpy-1.15.0/reference/generated/numpy.identity.html)"
   ]
  },
  {
   "cell_type": "code",
   "execution_count": 32,
   "metadata": {
    "_uuid": "842b12bf0ffff4ab4252db3134ca16eb44d2bc89"
   },
   "outputs": [
    {
     "data": {
      "text/plain": [
       "array([[1., 0., 0.],\n",
       "       [0., 1., 0.],\n",
       "       [0., 0., 1.]])"
      ]
     },
     "execution_count": 32,
     "metadata": {},
     "output_type": "execute_result"
    }
   ],
   "source": [
    "np.identity(3)"
   ]
  },
  {
   "cell_type": "markdown",
   "metadata": {
    "_uuid": "be61bed3414ed2dccb551abbffb0a58ba270d38d"
   },
   "source": [
    "How to create *identity matrix* in *numpy*  "
   ]
  },
  {
   "cell_type": "code",
   "execution_count": 33,
   "metadata": {
    "_uuid": "29068a6e863dff19854170ea9ef701385d4ebda7"
   },
   "outputs": [
    {
     "name": "stdout",
     "output_type": "stream",
     "text": [
      "identy: [[21  5  7]\n",
      " [ 9  8 16]]\n"
     ]
    }
   ],
   "source": [
    "identy = np.array([[21, 5, 7],[9, 8, 16]])\n",
    "print(\"identy:\", identy)"
   ]
  },
  {
   "cell_type": "code",
   "execution_count": 34,
   "metadata": {
    "_uuid": "41d1470cef878a6ea9d6db819ca44bf5ebc7232e"
   },
   "outputs": [
    {
     "data": {
      "text/plain": [
       "(2, 3)"
      ]
     },
     "execution_count": 34,
     "metadata": {},
     "output_type": "execute_result"
    }
   ],
   "source": [
    "identy.shape"
   ]
  },
  {
   "cell_type": "code",
   "execution_count": 35,
   "metadata": {
    "_uuid": "70d0df8d58e0a9209bcaa5753c51d3e8d905ce40"
   },
   "outputs": [
    {
     "data": {
      "text/plain": [
       "array([[1, 0, 0],\n",
       "       [0, 1, 0],\n",
       "       [0, 0, 1]])"
      ]
     },
     "execution_count": 35,
     "metadata": {},
     "output_type": "execute_result"
    }
   ],
   "source": [
    "np.identity(identy.shape[1], dtype=\"int\")"
   ]
  },
  {
   "cell_type": "code",
   "execution_count": 36,
   "metadata": {
    "_uuid": "6ac179dd27c16233d91df6ef504de64e5fadb7c8"
   },
   "outputs": [
    {
     "data": {
      "text/plain": [
       "array([[1, 0],\n",
       "       [0, 1]])"
      ]
     },
     "execution_count": 36,
     "metadata": {},
     "output_type": "execute_result"
    }
   ],
   "source": [
    "np.identity(identy.shape[0], dtype=\"int\")"
   ]
  },
  {
   "cell_type": "markdown",
   "metadata": {
    "_uuid": "7f97a3211e646d8ffc467bcda3623da3b89b9202"
   },
   "source": [
    "<a id=\"51\"></a> <br>\n",
    "### 5-1  Inverse Matrices"
   ]
  },
  {
   "cell_type": "code",
   "execution_count": 37,
   "metadata": {
    "_uuid": "2e0fdf7abf02064addfb5acf23b751dbf8e8fc1f"
   },
   "outputs": [
    {
     "name": "stdout",
     "output_type": "stream",
     "text": [
      "[[1. 0.]\n",
      " [0. 1.]]\n"
     ]
    }
   ],
   "source": [
    "inverse = np.linalg.inv(matrix1)\n",
    "print(inverse)"
   ]
  },
  {
   "cell_type": "markdown",
   "metadata": {
    "_uuid": "93c10865c2374f850dd040b8d545c226002dbb75"
   },
   "source": [
    "<a id=\"6\"></a> <br>\n",
    "## 6- Diagonal Matrix"
   ]
  },
  {
   "cell_type": "markdown",
   "metadata": {
    "_uuid": "10c74f8237e9f95bcc0e47cf5b2c0beba8b39b01"
   },
   "source": [
    "In *numpy* we can create a *diagonal matrix* from any given matrix using the *diag* function:"
   ]
  },
  {
   "cell_type": "code",
   "execution_count": 38,
   "metadata": {
    "_uuid": "51b5323cf73f7e328f3c8c024fd634e33329235b"
   },
   "outputs": [
    {
     "data": {
      "text/plain": [
       "array([ 0,  5, 10, 15])"
      ]
     },
     "execution_count": 38,
     "metadata": {},
     "output_type": "execute_result"
    }
   ],
   "source": [
    "import numpy as np\n",
    "A = np.array([[0,   1,  2,  3],\n",
    "              [4,   5,  6,  7],\n",
    "              [8,   9, 10, 11],\n",
    "              [12, 13, 14, 15]])\n",
    "np.diag(A)"
   ]
  },
  {
   "cell_type": "code",
   "execution_count": 39,
   "metadata": {
    "_uuid": "213118a89acd75f4ca025d46b319037cd1bcbbf8"
   },
   "outputs": [
    {
     "data": {
      "text/plain": [
       "array([ 1,  6, 11])"
      ]
     },
     "execution_count": 39,
     "metadata": {},
     "output_type": "execute_result"
    }
   ],
   "source": [
    "np.diag(A, k=1)"
   ]
  },
  {
   "cell_type": "code",
   "execution_count": 40,
   "metadata": {
    "_uuid": "70526663a463f5cdb1214fcf5ea2f7f3fb9ce166"
   },
   "outputs": [
    {
     "data": {
      "text/plain": [
       "array([ 4,  9, 14])"
      ]
     },
     "execution_count": 40,
     "metadata": {},
     "output_type": "execute_result"
    }
   ],
   "source": [
    "np.diag(A, k=-1)"
   ]
  },
  {
   "cell_type": "markdown",
   "metadata": {
    "_uuid": "87d1e66c2fdd87db8a4b6e7b2dfee28d66dfd3fa"
   },
   "source": [
    "<a id=\"7\"></a> <br>\n",
    "## 7- Transpose of a Matrix\n",
    "For reading about Transpose of a Matrix, you can visit [this link](https://py.checkio.org/en/mission/matrix-transpose/)"
   ]
  },
  {
   "cell_type": "code",
   "execution_count": 41,
   "metadata": {
    "_uuid": "dea9e2ef7ac37cb7b1ce919c68bb0b352e01fff7"
   },
   "outputs": [
    {
     "data": {
      "text/plain": [
       "array([[1, 2],\n",
       "       [3, 4]])"
      ]
     },
     "execution_count": 41,
     "metadata": {},
     "output_type": "execute_result"
    }
   ],
   "source": [
    "a = np.array([[1, 2], [3, 4]])\n",
    "a"
   ]
  },
  {
   "cell_type": "code",
   "execution_count": 42,
   "metadata": {
    "_uuid": "8e8a6944750b79de14323af2d68b6cfac7bcf192"
   },
   "outputs": [
    {
     "data": {
      "text/plain": [
       "array([[1, 3],\n",
       "       [2, 4]])"
      ]
     },
     "execution_count": 42,
     "metadata": {},
     "output_type": "execute_result"
    }
   ],
   "source": [
    "a.transpose()"
   ]
  },
  {
   "cell_type": "markdown",
   "metadata": {
    "_uuid": "2862a79e4c2abaede94a473a74f5eee9c07be65d"
   },
   "source": [
    "<a id=\"8\"></a> <br>\n",
    "## 8- Symmetric Matrices\n",
    "In linear algebra, a symmetric matrix is a square matrix that is equal to its transpose. Formally,\n",
    "<img src='https://wikimedia.org/api/rest_v1/media/math/render/svg/ad8a5a3a4c95de6f7f50b0a6fb592d115fe0e95f'>\n",
    "\n",
    "[wikipedia](https://en.wikipedia.org/wiki/Symmetric_matrix)"
   ]
  },
  {
   "cell_type": "code",
   "execution_count": 43,
   "metadata": {
    "_uuid": "d859ccb55b0e40c4261314d69731be42efa5c03f"
   },
   "outputs": [
    {
     "name": "stderr",
     "output_type": "stream",
     "text": [
      "/opt/conda/lib/python3.6/site-packages/ipykernel_launcher.py:2: DeprecationWarning: This function is deprecated. Please call randint(-2000, 2000 + 1) instead\n",
      "  \n"
     ]
    }
   ],
   "source": [
    "N = 100\n",
    "b = np.random.random_integers(-2000,2000,size=(N,N))\n",
    "b_symm = (b + b.T)/2"
   ]
  },
  {
   "cell_type": "markdown",
   "metadata": {
    "_uuid": "428183208acf9df58cd241a7cd0ede7e17baf3d1"
   },
   "source": [
    "<a id=\"9\"></a> <br>\n",
    "## 9-The Trace\n",
    "Return the sum along diagonals of the array."
   ]
  },
  {
   "cell_type": "code",
   "execution_count": 44,
   "metadata": {
    "_kg_hide-input": true,
    "_uuid": "17f061ccf8620270700b566eea8e41b70f215960"
   },
   "outputs": [
    {
     "data": {
      "text/plain": [
       "3.0"
      ]
     },
     "execution_count": 44,
     "metadata": {},
     "output_type": "execute_result"
    }
   ],
   "source": [
    "np.trace(np.eye(3))"
   ]
  },
  {
   "cell_type": "code",
   "execution_count": 45,
   "metadata": {
    "_uuid": "03ec16794b2e1b2c5204eb5da7e03769fac509bf"
   },
   "outputs": [
    {
     "name": "stdout",
     "output_type": "stream",
     "text": [
      "2\n"
     ]
    }
   ],
   "source": [
    "print(np.trace(matrix1))"
   ]
  },
  {
   "cell_type": "code",
   "execution_count": 46,
   "metadata": {
    "_uuid": "e4c042172e851dc79b63674dba2751f3b742fff7"
   },
   "outputs": [
    {
     "name": "stdout",
     "output_type": "stream",
     "text": [
      "1.0\n"
     ]
    }
   ],
   "source": [
    "det = np.linalg.det(matrix1)\n",
    "print(det)"
   ]
  },
  {
   "cell_type": "markdown",
   "metadata": {
    "_uuid": "0b5536a2d51d252ff8ed7c972f407c1669fac6ab"
   },
   "source": [
    "<a id=\"10\"></a> <br>\n",
    "# 10- Norms\n",
    "numpy.linalg.norm\n",
    "This function is able to return one of eight different matrix norms, or one of an infinite number of vector norms (described below), depending on the value of the ord parameter. [scipy](https://docs.scipy.org/doc/numpy-1.13.0/reference/generated/numpy.linalg.norm.html)\n",
    "\n",
    " <a id=\"top\"></a> <br>"
   ]
  },
  {
   "cell_type": "code",
   "execution_count": 47,
   "metadata": {
    "_uuid": "d8232fcb5a3b7ef9f9dab45d8d964046c584da11"
   },
   "outputs": [
    {
     "data": {
      "text/plain": [
       "array([1., 2., 3., 4.])"
      ]
     },
     "execution_count": 47,
     "metadata": {},
     "output_type": "execute_result"
    }
   ],
   "source": [
    "v = np.array([1,2,3,4])\n",
    "norm.median(v)"
   ]
  },
  {
   "cell_type": "markdown",
   "metadata": {
    "_uuid": "42d54d284146a24f5eeedffa8c53ed870359b08d"
   },
   "source": [
    "<a id=\"11\"></a> <br>\n",
    "# 11- Linear Independence and Rank\n",
    "How to identify the linearly independent rows from a matrix?"
   ]
  },
  {
   "cell_type": "code",
   "execution_count": 48,
   "metadata": {
    "_uuid": "99bc735946faf655e15a2065eb81b0e1db9c8565"
   },
   "outputs": [
    {
     "name": "stdout",
     "output_type": "stream",
     "text": [
      "[[0 1 1 0]]\n"
     ]
    }
   ],
   "source": [
    "#How to find linearly independent rows from a matrix\n",
    "matrix = np.array(\n",
    "    [\n",
    "        [0, 1 ,0 ,0],\n",
    "        [0, 0, 1, 0],\n",
    "        [0, 1, 1, 0],\n",
    "        [1, 0, 0, 1]\n",
    "    ])\n",
    "\n",
    "lambdas, V =  np.linalg.eig(matrix.T)\n",
    "# The linearly dependent row vectors \n",
    "print (matrix[lambdas == 0,:])"
   ]
  },
  {
   "cell_type": "markdown",
   "metadata": {
    "_uuid": "e3cf40ea16ea61ebd53a5b56d1ecccf3ebfeba50"
   },
   "source": [
    "<a id=\"12\"></a> <br>\n",
    "# 12-  Subtraction and Addition of Metrices"
   ]
  },
  {
   "cell_type": "code",
   "execution_count": 49,
   "metadata": {
    "_kg_hide-input": true,
    "_uuid": "fa3526c6b6308ae79ab322ff12e6e21e45761e8a"
   },
   "outputs": [
    {
     "name": "stdout",
     "output_type": "stream",
     "text": [
      "np.arange(9): [0 1 2 3 4 5 6 7 8]\n",
      "np.arange(9, 18): [ 9 10 11 12 13 14 15 16 17]\n",
      "A: [[ 9 10 11]\n",
      " [12 13 14]\n",
      " [15 16 17]]\n",
      "B: [[0 1 2]\n",
      " [3 4 5]\n",
      " [6 7 8]]\n"
     ]
    }
   ],
   "source": [
    "import numpy as np\n",
    "print(\"np.arange(9):\", np.arange(9))\n",
    "print(\"np.arange(9, 18):\", np.arange(9, 18))\n",
    "A = np.arange(9, 18).reshape((3, 3))\n",
    "B = np.arange(9).reshape((3, 3))\n",
    "print(\"A:\", A)\n",
    "print(\"B:\", B)"
   ]
  },
  {
   "cell_type": "markdown",
   "metadata": {
    "_uuid": "2c2f223e42500cdc89887cf0c9c3a5bb2fd2497c"
   },
   "source": [
    "We can now add and subtract the two matrices $A$ and $B$:"
   ]
  },
  {
   "cell_type": "code",
   "execution_count": 50,
   "metadata": {
    "_kg_hide-input": true,
    "_uuid": "3882778eea130a7cc3fd3e32d66177e6d5715223"
   },
   "outputs": [
    {
     "data": {
      "text/plain": [
       "array([[ 9, 11, 13],\n",
       "       [15, 17, 19],\n",
       "       [21, 23, 25]])"
      ]
     },
     "execution_count": 50,
     "metadata": {},
     "output_type": "execute_result"
    }
   ],
   "source": [
    "A + B"
   ]
  },
  {
   "cell_type": "code",
   "execution_count": 51,
   "metadata": {
    "_kg_hide-input": true,
    "_uuid": "00e586d7bdee0508f12ec92f4742994813ce0f79"
   },
   "outputs": [
    {
     "data": {
      "text/plain": [
       "array([[9, 9, 9],\n",
       "       [9, 9, 9],\n",
       "       [9, 9, 9]])"
      ]
     },
     "execution_count": 51,
     "metadata": {},
     "output_type": "execute_result"
    }
   ],
   "source": [
    "A - B"
   ]
  },
  {
   "cell_type": "markdown",
   "metadata": {
    "_uuid": "94127d106aa8e05925e99e5f6c0a70f2c860af39"
   },
   "source": [
    "<a id=\"121\"></a> <br>\n",
    "## 12-1 Inverse\n",
    "We use numpy.linalg.inv() function to calculate the inverse of a matrix. The inverse of a matrix is such that if it is multiplied by the original matrix, it results in identity matrix.[tutorialspoint](https://www.tutorialspoint.com/numpy/numpy_inv.htm)"
   ]
  },
  {
   "cell_type": "code",
   "execution_count": 52,
   "metadata": {
    "_uuid": "4bf2c911607f01aa47a4188d8212a9c6abae1972"
   },
   "outputs": [
    {
     "name": "stdout",
     "output_type": "stream",
     "text": [
      "[[1 2]\n",
      " [3 4]]\n",
      "[[-2.   1. ]\n",
      " [ 1.5 -0.5]]\n",
      "[[1. 0.]\n",
      " [0. 1.]]\n"
     ]
    }
   ],
   "source": [
    "x = np.array([[1,2],[3,4]]) \n",
    "y = np.linalg.inv(x) \n",
    "print (x )\n",
    "print (y )\n",
    "print (np.dot(x,y))"
   ]
  },
  {
   "cell_type": "markdown",
   "metadata": {
    "_uuid": "6d67e21b6e3c3131310b7208bac880550e61ad03"
   },
   "source": [
    "<a id=\"13\"></a> <br>\n",
    "## 13- Orthogonal Matrices\n",
    "How to create random orthonormal matrix in python numpy"
   ]
  },
  {
   "cell_type": "code",
   "execution_count": 53,
   "metadata": {
    "_kg_hide-input": true,
    "_uuid": "fca71217a54595fb76f02e9044b3090ea75ffb80"
   },
   "outputs": [],
   "source": [
    "## based on https://stackoverflow.com/questions/38426349/how-to-create-random-orthonormal-matrix-in-python-numpy\n",
    "def rvs(dim=3):\n",
    "     random_state = np.random\n",
    "     H = np.eye(dim)\n",
    "     D = np.ones((dim,))\n",
    "     for n in range(1, dim):\n",
    "         x = random_state.normal(size=(dim-n+1,))\n",
    "         D[n-1] = np.sign(x[0])\n",
    "         x[0] -= D[n-1]*np.sqrt((x*x).sum())\n",
    "         # Householder transformation\n",
    "         Hx = (np.eye(dim-n+1) - 2.*np.outer(x, x)/(x*x).sum())\n",
    "         mat = np.eye(dim)\n",
    "         mat[n-1:, n-1:] = Hx\n",
    "         H = np.dot(H, mat)\n",
    "         # Fix the last sign such that the determinant is 1\n",
    "     D[-1] = (-1)**(1-(dim % 2))*D.prod()\n",
    "     # Equivalent to np.dot(np.diag(D), H) but faster, apparently\n",
    "     H = (D*H.T).T\n",
    "     return H"
   ]
  },
  {
   "cell_type": "markdown",
   "metadata": {
    "_uuid": "84a7cc36920151c3166ad9036173a975077a816e"
   },
   "source": [
    "<a id=\"14\"></a> <br>\n",
    "## 14- Range and Nullspace of a Matrix"
   ]
  },
  {
   "cell_type": "code",
   "execution_count": 54,
   "metadata": {
    "_uuid": "dfc7ff00eea809bf00d3dacc6b3a5db13562c7a6"
   },
   "outputs": [
    {
     "data": {
      "text/plain": [
       "array([[ 0.7071],\n",
       "       [-0.7071]])"
      ]
     },
     "execution_count": 54,
     "metadata": {},
     "output_type": "execute_result"
    }
   ],
   "source": [
    "from scipy.linalg import null_space\n",
    "A = np.array([[1, 1], [1, 1]])\n",
    "ns = null_space(A)\n",
    "ns * np.sign(ns[0,0])  # Remove the sign ambiguity of the vector"
   ]
  },
  {
   "cell_type": "markdown",
   "metadata": {
    "_uuid": "5168e46a20736d3815f9ac3590ab129b732bee12"
   },
   "source": [
    "<a id=\"15\"></a> <br>\n",
    "# 15-  Determinant\n",
    "Compute the determinant of an array"
   ]
  },
  {
   "cell_type": "code",
   "execution_count": 55,
   "metadata": {
    "_uuid": "94b4e5d5a484fa851174e8a610c9c91dad83c37a"
   },
   "outputs": [
    {
     "data": {
      "text/plain": [
       "-2.0000000000000004"
      ]
     },
     "execution_count": 55,
     "metadata": {},
     "output_type": "execute_result"
    }
   ],
   "source": [
    "a = np.array([[1, 2], [3, 4]])\n",
    "np.linalg.det(a)"
   ]
  },
  {
   "cell_type": "markdown",
   "metadata": {
    "_uuid": "c03b0d7f8c0409ac026d6c7274cfaf95b572a26c"
   },
   "source": [
    "<a id=\"16\"></a> <br>\n",
    "# 16- Tensors"
   ]
  },
  {
   "cell_type": "markdown",
   "metadata": {
    "_uuid": "baf22e2a7f0a839a26df2a17815b6f2867dc7c15"
   },
   "source": [
    "A [**tensor**](https://en.wikipedia.org/wiki/Tensor) could be thought of as an organized multidimensional array of numerical values. A vector could be assumed to be a sub-class of a tensor. Rows of tensors extend alone the y-axis, columns along the x-axis. The **rank** of a scalar is 0, the rank of a **vector** is 1, the rank of a **matrix** is 2, the rank of a **tensor** is 3 or higher.\n",
    "\n",
    "###### [Go to top](#top)"
   ]
  },
  {
   "cell_type": "code",
   "execution_count": 56,
   "metadata": {
    "_kg_hide-input": true,
    "_uuid": "3bb2dbff06ab25e05e379d45b5f529c94d2bf6aa"
   },
   "outputs": [
    {
     "name": "stdout",
     "output_type": "stream",
     "text": [
      "[[0. 0. 0. 0. 0.]\n",
      " [0. 0. 0. 0. 0.]\n",
      " [0. 0. 1. 1. 1.]\n",
      " [0. 0. 1. 1. 1.]\n",
      " [0. 0. 0. 0. 0.]]\n"
     ]
    }
   ],
   "source": [
    "# credits: https://www.tensorflow.org/api_docs/python/tf/Variable\n",
    "A = tf.Variable(np.zeros((5, 5), dtype=np.float32), trainable=False)\n",
    "new_part = tf.ones((2,3))\n",
    "update_A = A[2:4,2:5].assign(new_part)\n",
    "sess = tf.InteractiveSession()\n",
    "tf.global_variables_initializer().run()\n",
    "print(update_A.eval())"
   ]
  },
  {
   "cell_type": "markdown",
   "metadata": {
    "_uuid": "9585bfae0dd3cd9de762cf8d5ffb801a2b24dc08"
   },
   "source": [
    "<a id=\"25\"></a> <br>\n",
    "# 17- Hyperplane"
   ]
  },
  {
   "cell_type": "markdown",
   "metadata": {
    "_uuid": "e689830f047dd755c68f83b0a4747928eb70c044"
   },
   "source": [
    "The **hyperplane** is a sub-space in the ambient space with one dimension less. In a two-dimensional space the hyperplane is a line, in a three-dimensional space it is a two-dimensional plane, etc."
   ]
  },
  {
   "cell_type": "markdown",
   "metadata": {
    "_uuid": "2f4ff05c6a2421c9e41d326d29970ff6be1b3695"
   },
   "source": [
    "Hyperplanes divide an $n$-dimensional space into sub-spaces that might represent clases in a machine learning algorithm."
   ]
  },
  {
   "cell_type": "code",
   "execution_count": 57,
   "metadata": {
    "_kg_hide-input": true,
    "_uuid": "43691809c6e28187520e3fce5fe89007dbda1166"
   },
   "outputs": [
    {
     "data": {
      "image/png": "[encoded data removed]",
      "text/plain": [
       "<Figure size 432x288 with 1 Axes>"
      ]
     },
     "metadata": {},
     "output_type": "display_data"
    }
   ],
   "source": [
    "##based on this address: https://stackoverflow.com/questions/46511017/plot-hyperplane-linear-svm-python\n",
    "np.random.seed(0)\n",
    "X = np.r_[np.random.randn(20, 2) - [2, 2], np.random.randn(20, 2) + [2, 2]]\n",
    "Y = [0] * 20 + [1] * 20\n",
    "\n",
    "fig, ax = plt.subplots()\n",
    "clf2 = svm.LinearSVC(C=1).fit(X, Y)\n",
    "\n",
    "# get the separating hyperplane\n",
    "w = clf2.coef_[0]\n",
    "a = -w[0] / w[1]\n",
    "xx = np.linspace(-5, 5)\n",
    "yy = a * xx - (clf2.intercept_[0]) / w[1]\n",
    "\n",
    "# create a mesh to plot in\n",
    "x_min, x_max = X[:, 0].min() - 1, X[:, 0].max() + 1\n",
    "y_min, y_max = X[:, 1].min() - 1, X[:, 1].max() + 1\n",
    "xx2, yy2 = np.meshgrid(np.arange(x_min, x_max, .2),\n",
    "                     np.arange(y_min, y_max, .2))\n",
    "Z = clf2.predict(np.c_[xx2.ravel(), yy2.ravel()])\n",
    "\n",
    "Z = Z.reshape(xx2.shape)\n",
    "ax.contourf(xx2, yy2, Z, cmap=plt.cm.coolwarm, alpha=0.3)\n",
    "ax.scatter(X[:, 0], X[:, 1], c=Y, cmap=plt.cm.coolwarm, s=25)\n",
    "ax.plot(xx,yy)\n",
    "\n",
    "ax.axis([x_min, x_max,y_min, y_max])\n",
    "plt.show()"
   ]
  },
  {
   "cell_type": "markdown",
   "metadata": {
    "_uuid": "4b488bdb25f40572d2493b54b3a60bfbaa4b0f5a"
   },
   "source": [
    "<a id=\"31\"></a> <br>\n",
    "## 20- Exercises\n",
    "let's do some exercise."
   ]
  },
  {
   "cell_type": "markdown",
   "metadata": {
    "_uuid": "b3c3f294d5fe5ae84d6a9a5b9d3e136dea2f95f5"
   },
   "source": [
    "### 20-1 Create a dense meshgrid"
   ]
  },
  {
   "cell_type": "code",
   "execution_count": 58,
   "metadata": {
    "_uuid": "3a38d6cd29163b51c8769ab23831a31f0d964f3a"
   },
   "outputs": [
    {
     "data": {
      "text/plain": [
       "array([[[0, 0, 0, 0, 0],\n",
       "        [1, 1, 1, 1, 1],\n",
       "        [2, 2, 2, 2, 2],\n",
       "        [3, 3, 3, 3, 3],\n",
       "        [4, 4, 4, 4, 4]],\n",
       "\n",
       "       [[0, 1, 2, 3, 4],\n",
       "        [0, 1, 2, 3, 4],\n",
       "        [0, 1, 2, 3, 4],\n",
       "        [0, 1, 2, 3, 4],\n",
       "        [0, 1, 2, 3, 4]]])"
      ]
     },
     "execution_count": 58,
     "metadata": {},
     "output_type": "execute_result"
    }
   ],
   "source": [
    "np.mgrid[0:5,0:5]"
   ]
  },
  {
   "cell_type": "markdown",
   "metadata": {
    "_uuid": "9240bceba412008933a328882257b7ed80ae5eab"
   },
   "source": [
    "### 20-2 Permute array dimensions"
   ]
  },
  {
   "cell_type": "code",
   "execution_count": 59,
   "metadata": {
    "_kg_hide-input": true,
    "_uuid": "7487fcd5b4406f1d4f77538296631463e1b7f064"
   },
   "outputs": [],
   "source": [
    "a=np.array([1,2,3])\n",
    "b=np.array([(1+5j,2j,3j), (4j,5j,6j)])\n",
    "c=np.array([[(1.5,2,3), (4,5,6)], [(3,2,1), (4,5,6)]])"
   ]
  },
  {
   "cell_type": "code",
   "execution_count": 60,
   "metadata": {
    "_uuid": "90a654b50a8d3b70948b491af19e60e78e42df2d"
   },
   "outputs": [
    {
     "data": {
      "text/plain": [
       "array([[1.+5.j, 0.+4.j],\n",
       "       [0.+2.j, 0.+5.j],\n",
       "       [0.+3.j, 0.+6.j]])"
      ]
     },
     "execution_count": 60,
     "metadata": {},
     "output_type": "execute_result"
    }
   ],
   "source": [
    "np.transpose(b)"
   ]
  },
  {
   "cell_type": "code",
   "execution_count": 61,
   "metadata": {
    "_uuid": "1cb51825fc92fe4ee6b967cfdb67f20c442f55fe"
   },
   "outputs": [
    {
     "data": {
      "text/plain": [
       "array([1.+5.j, 0.+2.j, 0.+3.j, 0.+4.j, 0.+5.j, 0.+6.j])"
      ]
     },
     "execution_count": 61,
     "metadata": {},
     "output_type": "execute_result"
    }
   ],
   "source": [
    "b.flatten()"
   ]
  },
  {
   "cell_type": "code",
   "execution_count": 62,
   "metadata": {
    "_kg_hide-input": false,
    "_uuid": "17c2358795f13774f8f38186e661cf995e1ca4f1"
   },
   "outputs": [
    {
     "data": {
      "text/plain": [
       "[array([[[1.5, 2. , 3. ]],\n",
       " \n",
       "        [[3. , 2. , 1. ]]]), array([[[4., 5., 6.]],\n",
       " \n",
       "        [[4., 5., 6.]]])]"
      ]
     },
     "execution_count": 62,
     "metadata": {},
     "output_type": "execute_result"
    }
   ],
   "source": [
    "np.hsplit(c,2)"
   ]
  },
  {
   "cell_type": "markdown",
   "metadata": {
    "_uuid": "8d2cf7c2ca2cd85c801444ab6dabe6e13c12a181"
   },
   "source": [
    "## 20-3 Polynomials"
   ]
  },
  {
   "cell_type": "code",
   "execution_count": 63,
   "metadata": {
    "_kg_hide-input": true,
    "_uuid": "90090cbf0e9c534675e574ad554f50b541aee42e"
   },
   "outputs": [
    {
     "data": {
      "text/plain": [
       "poly1d([3, 4, 5])"
      ]
     },
     "execution_count": 63,
     "metadata": {},
     "output_type": "execute_result"
    }
   ],
   "source": [
    "p=poly1d([3,4,5])\n",
    "p"
   ]
  },
  {
   "cell_type": "markdown",
   "metadata": {
    "_uuid": "f8707181b8793a673db66d03a3a0c655a801b237"
   },
   "source": [
    "## SciPy Cheat Sheet: Linear Algebra in Python\n",
    "This Python cheat sheet is a handy reference with code samples for doing linear algebra with SciPy and interacting with NumPy.\n",
    "\n",
    "[DataCamp](https://www.datacamp.com/community/blog/python-scipy-cheat-sheet)"
   ]
  },
  {
   "cell_type": "markdown",
   "metadata": {
    "_uuid": "afc2a360fedd783e5e9d7bbc975c9c6f06a2ee72"
   },
   "source": [
    "<a id=\"21\"></a> <br>\n",
    "# 21-Conclusion\n",
    "If you have made this far – give yourself a pat at the back. We have covered different aspects of **Linear algebra** in this Kernel. You are now finishing the **third step** of the course to continue, return to the [**main page**](https://www.kaggle.com/mjbahmani/10-steps-to-become-a-data-scientist/) of the course.  \n",
    "\n",
    "###### [Go to top](#top)"
   ]
  },
  {
   "cell_type": "markdown",
   "metadata": {
    "_uuid": "b132163ee07917a0ab100b93f6ed5545ce0de45d"
   },
   "source": [
    "you can follow me on:\n",
    "> ###### [ GitHub](https://github.com/mjbahmani/)\n",
    "> ###### [Kaggle](https://www.kaggle.com/mjbahmani/)\n",
    "\n",
    " <b>I hope you find this kernel helpful and some <font color='red'>UPVOTES</font> would be very much appreciated.<b/>\n",
    " "
   ]
  },
  {
   "cell_type": "markdown",
   "metadata": {
    "_uuid": "5719a5ba111b65b20b53d538281ac773eb14471a"
   },
   "source": [
    "<a id=\"22\"></a> <br>\n",
    "# 22-References & Credits\n",
    "1. [Linear Algbra1](https://github.com/dcavar/python-tutorial-for-ipython)\n",
    "1. [Linear Algbra2](https://www.oreilly.com/library/view/data-science-from/9781491901410/ch04.html)\n",
    "1. [datacamp](https://www.datacamp.com/community/blog/python-scipy-cheat-sheet)\n",
    "1. [damir.cavar](http://damir.cavar.me/)\n",
    "1. [Linear_algebra](https://en.wikipedia.org/wiki/Linear_algebra)\n",
    "1. [http://linear.ups.edu/html/fcla.html](http://linear.ups.edu/html/fcla.html)\n",
    "1. [mathsisfun](https://www.mathsisfun.com/algebra/matrix-multiplying.html)\n",
    "1. [scipy](https://docs.scipy.org/doc/numpy-1.15.0/reference/generated/numpy.outer.html)\n",
    "1. [tutorialspoint](https://www.tutorialspoint.com/numpy/numpy_inv.htm)\n",
    "1. [machinelearningmastery](https://machinelearningmastery.com/introduction-to-tensors-for-machine-learning/)\n",
    "1. [gamedevelopertips](http://gamedevelopertips.com/vector-in-game-development/)\n",
    "1. [Scalars-Vectors-Matrices-and-Tensors](https://hadrienj.github.io/posts/Deep-Learning-Book-Series-2.1-Scalars-Vectors-Matrices-and-Tensors/)"
   ]
  },
  {
   "cell_type": "markdown",
   "metadata": {
    "_uuid": "f7d48149556ffed79e79cebf8aa53ca747b25b6e"
   },
   "source": [
    "Go to first step: [Course Home Page](https://www.kaggle.com/mjbahmani/10-steps-to-become-a-data-scientist)\n",
    "\n",
    "Go to next step : [Titanic](https://www.kaggle.com/mjbahmani/a-comprehensive-ml-workflow-with-python)\n"
   ]
  }
 ],
 "metadata": {
  "kernelspec": {
   "display_name": "Python 3",
   "language": "python",
   "name": "python3"
  },
  "language_info": {
   "codemirror_mode": {
    "name": "ipython",
    "version": 3
   },
   "file_extension": ".py",
   "mimetype": "text/x-python",
   "name": "python",
   "nbconvert_exporter": "python",
   "pygments_lexer": "ipython3",
   "version": "3.6.6"
  }
 },
 "nbformat": 4,
 "nbformat_minor": 1
}
